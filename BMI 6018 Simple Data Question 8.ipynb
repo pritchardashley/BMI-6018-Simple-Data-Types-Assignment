{
 "cells": [
  {
   "cell_type": "code",
   "execution_count": 1,
   "id": "f29a2e0c-9c38-4ee9-b2b3-833f14ff37e7",
   "metadata": {},
   "outputs": [],
   "source": [
    "#Question 8"
   ]
  },
  {
   "cell_type": "code",
   "execution_count": 2,
   "id": "8b732e1d-434e-4187-bb69-a78e287bdd59",
   "metadata": {},
   "outputs": [],
   "source": [
    "#Weight = 60 kg (int)\n",
    "#Height = 1.58 m (float)\n",
    "#BMI = W/H^2"
   ]
  },
  {
   "cell_type": "code",
   "execution_count": 4,
   "id": "9fbc86fa-4450-49c8-85a7-ce90ad060a16",
   "metadata": {},
   "outputs": [
    {
     "data": {
      "text/plain": [
       "24.034609838166958"
      ]
     },
     "execution_count": 4,
     "metadata": {},
     "output_type": "execute_result"
    }
   ],
   "source": [
    "((60) / (1.58 ** 2))"
   ]
  },
  {
   "cell_type": "code",
   "execution_count": null,
   "id": "53218b66-2d0c-4829-9cb4-5a04087cc262",
   "metadata": {},
   "outputs": [],
   "source": [
    "#"
   ]
  }
 ],
 "metadata": {
  "kernelspec": {
   "display_name": "Python 3 (ipykernel)",
   "language": "python",
   "name": "python3"
  },
  "language_info": {
   "codemirror_mode": {
    "name": "ipython",
    "version": 3
   },
   "file_extension": ".py",
   "mimetype": "text/x-python",
   "name": "python",
   "nbconvert_exporter": "python",
   "pygments_lexer": "ipython3",
   "version": "3.12.4"
  }
 },
 "nbformat": 4,
 "nbformat_minor": 5
}
